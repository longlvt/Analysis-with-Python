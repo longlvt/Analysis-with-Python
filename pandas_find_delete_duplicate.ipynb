{
 "cells": [
  {
   "cell_type": "code",
   "execution_count": 4,
   "metadata": {},
   "outputs": [
    {
     "name": "stdout",
     "output_type": "stream",
     "text": [
      "Original Dataframe\n",
      "     Name  Age      City\n",
      "0    jack   34    Sydeny\n",
      "1    Riti   30     Delhi\n",
      "2    Aadi   16  New York\n",
      "3    Riti   30     Delhi\n",
      "4    Riti   30     Delhi\n",
      "5    Riti   30    Mumbai\n",
      "6    Aadi   40    London\n",
      "7  Sachin   30     Delhi\n",
      "\n",
      "*** Find Duplicate Rows based on all columns ***\n",
      "\n",
      "a. Duplicate Rows except first occurrence based on all columns are :\n",
      "   Name  Age   City\n",
      "3  Riti   30  Delhi\n",
      "4  Riti   30  Delhi\n",
      "\n",
      "b. Duplicate Rows except last occurrence based on all columns are :\n",
      "   Name  Age   City\n",
      "1  Riti   30  Delhi\n",
      "3  Riti   30  Delhi\n",
      "\n",
      "c. All Duplicate Rows based on all columns are :\n",
      "   Name  Age   City\n",
      "1  Riti   30  Delhi\n",
      "3  Riti   30  Delhi\n",
      "4  Riti   30  Delhi\n",
      "\n",
      "d. Duplicate Rows based on a single column are:\n",
      "   Name  Age    City\n",
      "3  Riti   30   Delhi\n",
      "4  Riti   30   Delhi\n",
      "5  Riti   30  Mumbai\n",
      "6  Aadi   40  London\n",
      "\n",
      "e. Duplicate Rows based on 2 columns are:\n",
      "     Name  Age   City\n",
      "3    Riti   30  Delhi\n",
      "4    Riti   30  Delhi\n",
      "7  Sachin   30  Delhi\n"
     ]
    }
   ],
   "source": [
    "import pandas as pd\n",
    "# List of Tuples\n",
    "students = [('jack', 34, 'Sydeny'),\n",
    "('Riti', 30, 'Delhi'),\n",
    "('Aadi', 16, 'New York'),\n",
    "('Riti', 30, 'Delhi'),\n",
    "('Riti', 30, 'Delhi'),\n",
    "('Riti', 30, 'Mumbai'),\n",
    "('Aadi', 40, 'London'),\n",
    "('Sachin', 30, 'Delhi')\n",
    "]\n",
    "# Create a DataFrame object\n",
    "dfObj = pd.DataFrame(students, columns=['Name', 'Age', 'City'])\n",
    "print(\"Original Dataframe\", dfObj, sep='\\n')\n",
    "print('\\n*** Find Duplicate Rows based on all columns ***')\n",
    "\n",
    "# Select duplicate rows except first occurrence based on all columns\n",
    "duplicateRowsDF = dfObj[dfObj.duplicated()]\n",
    "print(\"\\na. Duplicate Rows except first occurrence based on all columns are :\")\n",
    "print(duplicateRowsDF)\n",
    "\n",
    "# Select duplicate rows except last occurrence based on all columns\n",
    "duplicateRowsDF = dfObj[dfObj.duplicated(keep='last')]\n",
    "print(\"\\nb. Duplicate Rows except last occurrence based on all columns are :\")\n",
    "print(duplicateRowsDF)\n",
    "\n",
    "# Select all duplicate rows based on all columns\n",
    "duplicateRowsDF = dfObj[dfObj.duplicated(keep=False)]\n",
    "print(\"\\nc. All Duplicate Rows based on all columns are :\")\n",
    "print(duplicateRowsDF)\n",
    "# Select all duplicate rows based on one column\n",
    "duplicateRowsDF = dfObj[dfObj.duplicated(['Name'])]\n",
    "print(\"\\nd. Duplicate Rows based on a single column are:\", duplicateRowsDF, sep='\\n')\n",
    "# Select all duplicate rows based on multiple column names in list\n",
    "duplicateRowsDF = dfObj[dfObj.duplicated(['Age', 'City'])]\n",
    "print(\"\\ne. Duplicate Rows based on 2 columns are:\", duplicateRowsDF, sep='\\n')"
   ]
  },
  {
   "cell_type": "code",
   "execution_count": 2,
   "metadata": {},
   "outputs": [
    {
     "name": "stdout",
     "output_type": "stream",
     "text": [
      "     Name  Age      City\n",
      "0    jack   34    Sydeny\n",
      "1    Riti   30     Delhi\n",
      "2    Aadi   16  New York\n",
      "3    Riti   30     Delhi\n",
      "4    Riti   30     Delhi\n",
      "5    Riti   30    Mumbai\n",
      "6    Aadi   40    London\n",
      "7  Sachin   30     Delhi\n",
      "     Name  Age   City\n",
      "1    Riti   30  Delhi\n",
      "3    Riti   30  Delhi\n",
      "4    Riti   30  Delhi\n",
      "7  Sachin   30  Delhi\n"
     ]
    }
   ],
   "source": [
    "print(dfObj)\n",
    "print(dfObj[dfObj.duplicated(['Age', 'City'], keep=False)])\n"
   ]
  },
  {
   "cell_type": "code",
   "execution_count": null,
   "metadata": {},
   "outputs": [],
   "source": [
    "'''\n",
    "Delete duplicate\n",
    "'''"
   ]
  },
  {
   "cell_type": "code",
   "execution_count": 6,
   "metadata": {},
   "outputs": [
    {
     "name": "stdout",
     "output_type": "stream",
     "text": [
      "Original Dataframe\n",
      "     Name  Age      City\n",
      "0    jack   34    Sydeny\n",
      "1    Riti   30     Delhi\n",
      "2    Aadi   16  New York\n",
      "3    Riti   30     Delhi\n",
      "4    Riti   30     Delhi\n",
      "5    Riti   30    Mumbai\n",
      "6    Aadi   40    London\n",
      "7  Sachin   30     Delhi\n"
     ]
    }
   ],
   "source": [
    "print(\"Original Dataframe\", dfObj, sep='\\n')"
   ]
  },
  {
   "cell_type": "code",
   "execution_count": 13,
   "metadata": {},
   "outputs": [
    {
     "name": "stdout",
     "output_type": "stream",
     "text": [
      "1. Delete rows duplicated \n",
      "     Name  Age      City\n",
      "0    jack   34    Sydeny\n",
      "1    Riti   30     Delhi\n",
      "2    Aadi   16  New York\n",
      "5    Riti   30    Mumbai\n",
      "6    Aadi   40    London\n",
      "7  Sachin   30     Delhi\n"
     ]
    }
   ],
   "source": [
    "print('1. Delete rows duplicated ')\n",
    "print(dfObj.drop_duplicates()) # Rows 3,4 are duplicates of row#1 -> will be deleted"
   ]
  },
  {
   "cell_type": "code",
   "execution_count": 12,
   "metadata": {},
   "outputs": [
    {
     "name": "stdout",
     "output_type": "stream",
     "text": [
      "2. Drop duplicates in the [Name] column, but take the last obs in the duplicated set\n",
      "     Name  Age    City\n",
      "0    jack   34  Sydeny\n",
      "5    Riti   30  Mumbai\n",
      "6    Aadi   40  London\n",
      "7  Sachin   30   Delhi\n"
     ]
    }
   ],
   "source": [
    "print('2. Drop duplicates in the [Name] column, but take the last obs in the duplicated set')\n",
    "print(dfObj.drop_duplicates(['Name'], keep='last')) #Row_5 will be kept as row_1 will be deleted"
   ]
  },
  {
   "cell_type": "code",
   "execution_count": null,
   "metadata": {},
   "outputs": [],
   "source": [
    "# We can also use 'keep' argument of pd.drop_duplicates() as in pd.duplicated()"
   ]
  },
  {
   "cell_type": "code",
   "execution_count": null,
   "metadata": {},
   "outputs": [],
   "source": []
  }
 ],
 "metadata": {
  "kernelspec": {
   "display_name": "Python 3",
   "language": "python",
   "name": "python3"
  },
  "language_info": {
   "codemirror_mode": {
    "name": "ipython",
    "version": 3
   },
   "file_extension": ".py",
   "mimetype": "text/x-python",
   "name": "python",
   "nbconvert_exporter": "python",
   "pygments_lexer": "ipython3",
   "version": "3.7.3"
  }
 },
 "nbformat": 4,
 "nbformat_minor": 2
}
